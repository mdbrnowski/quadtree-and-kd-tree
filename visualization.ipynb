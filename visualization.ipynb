{
 "cells": [
  {
   "cell_type": "code",
   "execution_count": null,
   "metadata": {
    "ExecuteTime": {
     "end_time": "2023-12-28T19:14:49.582496600Z",
     "start_time": "2023-12-28T19:14:49.518207900Z"
    }
   },
   "outputs": [],
   "source": [
    "from quadtree_visualization import QuadtreeVis\n",
    "from kd_tree_visualization import KdTreeVis\n",
    "from geometry import Rectangle\n",
    "from numpy.random import seed, uniform"
   ]
  },
  {
   "cell_type": "code",
   "execution_count": null,
   "metadata": {},
   "outputs": [],
   "source": [
    "seed(0)\n",
    "\n",
    "def generate_uniform_points(left, right, n):\n",
    "    return list(zip(uniform(left, right, size=n), uniform(left, right, size=n)))\n",
    "\n",
    "points = generate_uniform_points(-10, 10, 25)\n",
    "rectangle = Rectangle(-3, 1, -7, 5)"
   ]
  },
  {
   "cell_type": "markdown",
   "metadata": {},
   "source": [
    "## Quadtree"
   ]
  },
  {
   "cell_type": "code",
   "execution_count": null,
   "metadata": {
    "is_executing": true
   },
   "outputs": [],
   "source": [
    "quadtree = QuadtreeVis(points)\n",
    "quadtree.add_grid()\n",
    "quadtree.find(rectangle)\n",
    "quadtree.vis.show()"
   ]
  },
  {
   "cell_type": "code",
   "execution_count": null,
   "metadata": {},
   "outputs": [],
   "source": [
    "quadtree.vis.show_gif(interval=1000)"
   ]
  },
  {
   "cell_type": "markdown",
   "metadata": {
    "collapsed": false,
    "jupyter": {
     "outputs_hidden": false
    }
   },
   "source": [
    "## Kd-tree"
   ]
  },
  {
   "cell_type": "code",
   "execution_count": null,
   "metadata": {},
   "outputs": [],
   "source": [
    "kd_tree = KdTreeVis(points)\n",
    "kd_tree.find(rectangle)\n",
    "kd_tree.vis.show()"
   ]
  },
  {
   "cell_type": "code",
   "execution_count": null,
   "metadata": {},
   "outputs": [],
   "source": [
    "kd_tree.vis.show_gif(interval=1000)"
   ]
  }
 ],
 "metadata": {
  "kernelspec": {
   "display_name": "Python 3 (ipykernel)",
   "language": "python",
   "name": "python3"
  },
  "language_info": {
   "codemirror_mode": {
    "name": "ipython",
    "version": 3
   },
   "file_extension": ".py",
   "mimetype": "text/x-python",
   "name": "python",
   "nbconvert_exporter": "python",
   "pygments_lexer": "ipython3",
   "version": "3.10.12"
  }
 },
 "nbformat": 4,
 "nbformat_minor": 4
}
